{
 "cells": [
  {
   "cell_type": "code",
   "execution_count": null,
   "metadata": {
    "collapsed": true
   },
   "outputs": [],
   "source": [
    "image_url = \"https://static.pexels.com/photos/67636/rose-blue-flower-rose-blooms-67636.jpeg\"\n",
    "\n",
    "import requests\n",
    "\n",
    "image_binary = requests.get(image_url).content\n",
    "\n",
    "with open(\"flower.jpeg\",\"wb\") as f:\n",
    "    f.write(image_binary)"
   ]
  }
 ],
 "metadata": {
  "kernelspec": {
   "display_name": "Python 3",
   "language": "python",
   "name": "python3"
  },
  "language_info": {
   "codemirror_mode": {
    "name": "ipython",
    "version": 3
   },
   "file_extension": ".py",
   "mimetype": "text/x-python",
   "name": "python",
   "nbconvert_exporter": "python",
   "pygments_lexer": "ipython3",
   "version": "3.6.1"
  }
 },
 "nbformat": 4,
 "nbformat_minor": 1
}
